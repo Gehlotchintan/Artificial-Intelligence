{
 "cells": [
  {
   "cell_type": "code",
   "execution_count": 3,
   "metadata": {},
   "outputs": [],
   "source": [
    "import numpy as np\n",
    "x=np.array([3.1,4.2,5,6.8,7]).reshape(-1,1)\n",
    "y=np.array([4.2,6.4,7.8,9.2,10.3]).reshape(-1,1)\n"
   ]
  },
  {
   "cell_type": "code",
   "execution_count": 5,
   "metadata": {},
   "outputs": [
    {
     "data": {
      "image/png": "[encoded data removed]",
      "text/plain": [
       "<Figure size 432x288 with 1 Axes>"
      ]
     },
     "metadata": {
      "needs_background": "light"
     },
     "output_type": "display_data"
    }
   ],
   "source": [
    "import matplotlib.pyplot as plt\n",
    "plt.scatter(x,y)\n",
    "plt.show()"
   ]
  },
  {
   "cell_type": "code",
   "execution_count": 6,
   "metadata": {},
   "outputs": [],
   "source": [
    "from sklearn.preprocessing import PolynomialFeatures\n",
    "pol=PolynomialFeatures(degree=2)\n",
    "x_pol=pol.fit_transform(x)"
   ]
  },
  {
   "cell_type": "code",
   "execution_count": 8,
   "metadata": {},
   "outputs": [
    {
     "data": {
      "text/plain": [
       "array([[ 1.  ,  3.1 ,  9.61],\n",
       "       [ 1.  ,  4.2 , 17.64],\n",
       "       [ 1.  ,  5.  , 25.  ],\n",
       "       [ 1.  ,  6.8 , 46.24],\n",
       "       [ 1.  ,  7.  , 49.  ]])"
      ]
     },
     "execution_count": 8,
     "metadata": {},
     "output_type": "execute_result"
    }
   ],
   "source": [
    "x_pol"
   ]
  },
  {
   "cell_type": "code",
   "execution_count": 12,
   "metadata": {},
   "outputs": [
    {
     "data": {
      "text/plain": [
       "LinearRegression(copy_X=True, fit_intercept=True, n_jobs=None, normalize=False)"
      ]
     },
     "execution_count": 12,
     "metadata": {},
     "output_type": "execute_result"
    }
   ],
   "source": [
    "from sklearn.linear_model import LinearRegression\n",
    "lmodel=LinearRegression()\n",
    "lmodel.fit(x_pol,y)"
   ]
  },
  {
   "cell_type": "code",
   "execution_count": 13,
   "metadata": {},
   "outputs": [],
   "source": [
    "ypred=lmodel.predict(x_pol)\n"
   ]
  },
  {
   "cell_type": "code",
   "execution_count": 14,
   "metadata": {},
   "outputs": [
    {
     "data": {
      "text/plain": [
       "<matplotlib.collections.PathCollection at 0xfc2f899f48>"
      ]
     },
     "execution_count": 14,
     "metadata": {},
     "output_type": "execute_result"
    },
    {
     "data": {
      "image/png": "[encoded data removed]",
      "text/plain": [
       "<Figure size 432x288 with 1 Axes>"
      ]
     },
     "metadata": {
      "needs_background": "light"
     },
     "output_type": "display_data"
    }
   ],
   "source": [
    "plt.scatter(x,ypred)"
   ]
  },
  {
   "cell_type": "code",
   "execution_count": 16,
   "metadata": {},
   "outputs": [
    {
     "data": {
      "text/plain": [
       "0.21646255558752242"
      ]
     },
     "execution_count": 16,
     "metadata": {},
     "output_type": "execute_result"
    }
   ],
   "source": [
    "from sklearn import metrics\n",
    "metrics.mean_absolute_error(y,ypred)"
   ]
  },
  {
   "cell_type": "code",
   "execution_count": 17,
   "metadata": {},
   "outputs": [],
   "source": [
    "k=np.arange(10).reshape(5,2)"
   ]
  },
  {
   "cell_type": "code",
   "execution_count": 18,
   "metadata": {},
   "outputs": [
    {
     "data": {
      "text/plain": [
       "array([[0, 1],\n",
       "       [2, 3],\n",
       "       [4, 5],\n",
       "       [6, 7],\n",
       "       [8, 9]])"
      ]
     },
     "execution_count": 18,
     "metadata": {},
     "output_type": "execute_result"
    }
   ],
   "source": [
    "k"
   ]
  },
  {
   "cell_type": "code",
   "execution_count": 19,
   "metadata": {},
   "outputs": [
    {
     "data": {
      "text/plain": [
       "array([[ 1.,  0.,  1.,  0.,  0.,  1.],\n",
       "       [ 1.,  2.,  3.,  4.,  6.,  9.],\n",
       "       [ 1.,  4.,  5., 16., 20., 25.],\n",
       "       [ 1.,  6.,  7., 36., 42., 49.],\n",
       "       [ 1.,  8.,  9., 64., 72., 81.]])"
      ]
     },
     "execution_count": 19,
     "metadata": {},
     "output_type": "execute_result"
    }
   ],
   "source": [
    "pol.fit_transform(k)"
   ]
  },
  {
   "cell_type": "code",
   "execution_count": 20,
   "metadata": {},
   "outputs": [],
   "source": [
    "import pandas as pd"
   ]
  },
  {
   "cell_type": "code",
   "execution_count": 21,
   "metadata": {},
   "outputs": [],
   "source": [
    "data=pd.read_csv('Housing_Data.csv')"
   ]
  },
  {
   "cell_type": "code",
   "execution_count": 22,
   "metadata": {},
   "outputs": [
    {
     "data": {
      "text/html": [
       "<div>\n",
       "<style scoped>\n",
       "    .dataframe tbody tr th:only-of-type {\n",
       "        vertical-align: middle;\n",
       "    }\n",
       "\n",
       "    .dataframe tbody tr th {\n",
       "        vertical-align: top;\n",
       "    }\n",
       "\n",
       "    .dataframe thead th {\n",
       "        text-align: right;\n",
       "    }\n",
       "</style>\n",
       "<table border=\"1\" class=\"dataframe\">\n",
       "  <thead>\n",
       "    <tr style=\"text-align: right;\">\n",
       "      <th></th>\n",
       "      <th>Unnamed: 0</th>\n",
       "      <th>price</th>\n",
       "      <th>lotsize</th>\n",
       "      <th>bedrooms</th>\n",
       "      <th>bathrms</th>\n",
       "      <th>stories</th>\n",
       "      <th>driveway</th>\n",
       "      <th>recroom</th>\n",
       "      <th>fullbase</th>\n",
       "      <th>gashw</th>\n",
       "      <th>airco</th>\n",
       "      <th>garagepl</th>\n",
       "      <th>prefarea</th>\n",
       "    </tr>\n",
       "  </thead>\n",
       "  <tbody>\n",
       "    <tr>\n",
       "      <td>0</td>\n",
       "      <td>1</td>\n",
       "      <td>42000.0</td>\n",
       "      <td>5850</td>\n",
       "      <td>3</td>\n",
       "      <td>1</td>\n",
       "      <td>2</td>\n",
       "      <td>yes</td>\n",
       "      <td>no</td>\n",
       "      <td>yes</td>\n",
       "      <td>no</td>\n",
       "      <td>no</td>\n",
       "      <td>1</td>\n",
       "      <td>no</td>\n",
       "    </tr>\n",
       "    <tr>\n",
       "      <td>1</td>\n",
       "      <td>2</td>\n",
       "      <td>38500.0</td>\n",
       "      <td>4000</td>\n",
       "      <td>2</td>\n",
       "      <td>1</td>\n",
       "      <td>1</td>\n",
       "      <td>yes</td>\n",
       "      <td>no</td>\n",
       "      <td>no</td>\n",
       "      <td>no</td>\n",
       "      <td>no</td>\n",
       "      <td>0</td>\n",
       "      <td>no</td>\n",
       "    </tr>\n",
       "    <tr>\n",
       "      <td>2</td>\n",
       "      <td>3</td>\n",
       "      <td>49500.0</td>\n",
       "      <td>3060</td>\n",
       "      <td>3</td>\n",
       "      <td>1</td>\n",
       "      <td>1</td>\n",
       "      <td>yes</td>\n",
       "      <td>no</td>\n",
       "      <td>no</td>\n",
       "      <td>no</td>\n",
       "      <td>no</td>\n",
       "      <td>0</td>\n",
       "      <td>no</td>\n",
       "    </tr>\n",
       "    <tr>\n",
       "      <td>3</td>\n",
       "      <td>4</td>\n",
       "      <td>60500.0</td>\n",
       "      <td>6650</td>\n",
       "      <td>3</td>\n",
       "      <td>1</td>\n",
       "      <td>2</td>\n",
       "      <td>yes</td>\n",
       "      <td>yes</td>\n",
       "      <td>no</td>\n",
       "      <td>no</td>\n",
       "      <td>no</td>\n",
       "      <td>0</td>\n",
       "      <td>no</td>\n",
       "    </tr>\n",
       "    <tr>\n",
       "      <td>4</td>\n",
       "      <td>5</td>\n",
       "      <td>61000.0</td>\n",
       "      <td>6360</td>\n",
       "      <td>2</td>\n",
       "      <td>1</td>\n",
       "      <td>1</td>\n",
       "      <td>yes</td>\n",
       "      <td>no</td>\n",
       "      <td>no</td>\n",
       "      <td>no</td>\n",
       "      <td>no</td>\n",
       "      <td>0</td>\n",
       "      <td>no</td>\n",
       "    </tr>\n",
       "    <tr>\n",
       "      <td>...</td>\n",
       "      <td>...</td>\n",
       "      <td>...</td>\n",
       "      <td>...</td>\n",
       "      <td>...</td>\n",
       "      <td>...</td>\n",
       "      <td>...</td>\n",
       "      <td>...</td>\n",
       "      <td>...</td>\n",
       "      <td>...</td>\n",
       "      <td>...</td>\n",
       "      <td>...</td>\n",
       "      <td>...</td>\n",
       "      <td>...</td>\n",
       "    </tr>\n",
       "    <tr>\n",
       "      <td>541</td>\n",
       "      <td>542</td>\n",
       "      <td>91500.0</td>\n",
       "      <td>4800</td>\n",
       "      <td>3</td>\n",
       "      <td>2</td>\n",
       "      <td>4</td>\n",
       "      <td>yes</td>\n",
       "      <td>yes</td>\n",
       "      <td>no</td>\n",
       "      <td>no</td>\n",
       "      <td>yes</td>\n",
       "      <td>0</td>\n",
       "      <td>no</td>\n",
       "    </tr>\n",
       "    <tr>\n",
       "      <td>542</td>\n",
       "      <td>543</td>\n",
       "      <td>94000.0</td>\n",
       "      <td>6000</td>\n",
       "      <td>3</td>\n",
       "      <td>2</td>\n",
       "      <td>4</td>\n",
       "      <td>yes</td>\n",
       "      <td>no</td>\n",
       "      <td>no</td>\n",
       "      <td>no</td>\n",
       "      <td>yes</td>\n",
       "      <td>0</td>\n",
       "      <td>no</td>\n",
       "    </tr>\n",
       "    <tr>\n",
       "      <td>543</td>\n",
       "      <td>544</td>\n",
       "      <td>103000.0</td>\n",
       "      <td>6000</td>\n",
       "      <td>3</td>\n",
       "      <td>2</td>\n",
       "      <td>4</td>\n",
       "      <td>yes</td>\n",
       "      <td>yes</td>\n",
       "      <td>no</td>\n",
       "      <td>no</td>\n",
       "      <td>yes</td>\n",
       "      <td>1</td>\n",
       "      <td>no</td>\n",
       "    </tr>\n",
       "    <tr>\n",
       "      <td>544</td>\n",
       "      <td>545</td>\n",
       "      <td>105000.0</td>\n",
       "      <td>6000</td>\n",
       "      <td>3</td>\n",
       "      <td>2</td>\n",
       "      <td>2</td>\n",
       "      <td>yes</td>\n",
       "      <td>yes</td>\n",
       "      <td>no</td>\n",
       "      <td>no</td>\n",
       "      <td>yes</td>\n",
       "      <td>1</td>\n",
       "      <td>no</td>\n",
       "    </tr>\n",
       "    <tr>\n",
       "      <td>545</td>\n",
       "      <td>546</td>\n",
       "      <td>105000.0</td>\n",
       "      <td>6000</td>\n",
       "      <td>3</td>\n",
       "      <td>1</td>\n",
       "      <td>2</td>\n",
       "      <td>yes</td>\n",
       "      <td>no</td>\n",
       "      <td>no</td>\n",
       "      <td>no</td>\n",
       "      <td>yes</td>\n",
       "      <td>1</td>\n",
       "      <td>no</td>\n",
       "    </tr>\n",
       "  </tbody>\n",
       "</table>\n",
       "<p>546 rows × 13 columns</p>\n",
       "</div>"
      ],
      "text/plain": [
       "     Unnamed: 0     price  lotsize  bedrooms  bathrms  stories driveway  \\\n",
       "0             1   42000.0     5850         3        1        2      yes   \n",
       "1             2   38500.0     4000         2        1        1      yes   \n",
       "2             3   49500.0     3060         3        1        1      yes   \n",
       "3             4   60500.0     6650         3        1        2      yes   \n",
       "4             5   61000.0     6360         2        1        1      yes   \n",
       "..          ...       ...      ...       ...      ...      ...      ...   \n",
       "541         542   91500.0     4800         3        2        4      yes   \n",
       "542         543   94000.0     6000         3        2        4      yes   \n",
       "543         544  103000.0     6000         3        2        4      yes   \n",
       "544         545  105000.0     6000         3        2        2      yes   \n",
       "545         546  105000.0     6000         3        1        2      yes   \n",
       "\n",
       "    recroom fullbase gashw airco  garagepl prefarea  \n",
       "0        no      yes    no    no         1       no  \n",
       "1        no       no    no    no         0       no  \n",
       "2        no       no    no    no         0       no  \n",
       "3       yes       no    no    no         0       no  \n",
       "4        no       no    no    no         0       no  \n",
       "..      ...      ...   ...   ...       ...      ...  \n",
       "541     yes       no    no   yes         0       no  \n",
       "542      no       no    no   yes         0       no  \n",
       "543     yes       no    no   yes         1       no  \n",
       "544     yes       no    no   yes         1       no  \n",
       "545      no       no    no   yes         1       no  \n",
       "\n",
       "[546 rows x 13 columns]"
      ]
     },
     "execution_count": 22,
     "metadata": {},
     "output_type": "execute_result"
    }
   ],
   "source": [
    "data"
   ]
  },
  {
   "cell_type": "code",
   "execution_count": 23,
   "metadata": {},
   "outputs": [
    {
     "data": {
      "text/plain": [
       "Index(['Unnamed: 0', 'price', 'lotsize', 'bedrooms', 'bathrms', 'stories',\n",
       "       'driveway', 'recroom', 'fullbase', 'gashw', 'airco', 'garagepl',\n",
       "       'prefarea'],\n",
       "      dtype='object')"
      ]
     },
     "execution_count": 23,
     "metadata": {},
     "output_type": "execute_result"
    }
   ],
   "source": [
    "data.columns"
   ]
  },
  {
   "cell_type": "code",
   "execution_count": 38,
   "metadata": {},
   "outputs": [],
   "source": [
    "x=data[['price','bedrooms','bathrms','stories','driveway','recroom']]\n",
    "y=data['lotsize']"
   ]
  },
  {
   "cell_type": "code",
   "execution_count": 39,
   "metadata": {},
   "outputs": [],
   "source": [
    "data['driveway']=data['driveway'].map({'yes':1,'no':0})\n",
    "data['recroom']=data['recroom'].map({'yes':1,'no':0})"
   ]
  },
  {
   "cell_type": "code",
   "execution_count": 40,
   "metadata": {},
   "outputs": [
    {
     "data": {
      "text/html": [
       "<div>\n",
       "<style scoped>\n",
       "    .dataframe tbody tr th:only-of-type {\n",
       "        vertical-align: middle;\n",
       "    }\n",
       "\n",
       "    .dataframe tbody tr th {\n",
       "        vertical-align: top;\n",
       "    }\n",
       "\n",
       "    .dataframe thead th {\n",
       "        text-align: right;\n",
       "    }\n",
       "</style>\n",
       "<table border=\"1\" class=\"dataframe\">\n",
       "  <thead>\n",
       "    <tr style=\"text-align: right;\">\n",
       "      <th></th>\n",
       "      <th>Unnamed: 0</th>\n",
       "      <th>price</th>\n",
       "      <th>lotsize</th>\n",
       "      <th>bedrooms</th>\n",
       "      <th>bathrms</th>\n",
       "      <th>stories</th>\n",
       "      <th>driveway</th>\n",
       "      <th>recroom</th>\n",
       "      <th>fullbase</th>\n",
       "      <th>gashw</th>\n",
       "      <th>airco</th>\n",
       "      <th>garagepl</th>\n",
       "      <th>prefarea</th>\n",
       "    </tr>\n",
       "  </thead>\n",
       "  <tbody>\n",
       "    <tr>\n",
       "      <td>0</td>\n",
       "      <td>1</td>\n",
       "      <td>42000.0</td>\n",
       "      <td>5850</td>\n",
       "      <td>3</td>\n",
       "      <td>1</td>\n",
       "      <td>2</td>\n",
       "      <td>NaN</td>\n",
       "      <td>NaN</td>\n",
       "      <td>yes</td>\n",
       "      <td>no</td>\n",
       "      <td>no</td>\n",
       "      <td>1</td>\n",
       "      <td>no</td>\n",
       "    </tr>\n",
       "    <tr>\n",
       "      <td>1</td>\n",
       "      <td>2</td>\n",
       "      <td>38500.0</td>\n",
       "      <td>4000</td>\n",
       "      <td>2</td>\n",
       "      <td>1</td>\n",
       "      <td>1</td>\n",
       "      <td>NaN</td>\n",
       "      <td>NaN</td>\n",
       "      <td>no</td>\n",
       "      <td>no</td>\n",
       "      <td>no</td>\n",
       "      <td>0</td>\n",
       "      <td>no</td>\n",
       "    </tr>\n",
       "    <tr>\n",
       "      <td>2</td>\n",
       "      <td>3</td>\n",
       "      <td>49500.0</td>\n",
       "      <td>3060</td>\n",
       "      <td>3</td>\n",
       "      <td>1</td>\n",
       "      <td>1</td>\n",
       "      <td>NaN</td>\n",
       "      <td>NaN</td>\n",
       "      <td>no</td>\n",
       "      <td>no</td>\n",
       "      <td>no</td>\n",
       "      <td>0</td>\n",
       "      <td>no</td>\n",
       "    </tr>\n",
       "    <tr>\n",
       "      <td>3</td>\n",
       "      <td>4</td>\n",
       "      <td>60500.0</td>\n",
       "      <td>6650</td>\n",
       "      <td>3</td>\n",
       "      <td>1</td>\n",
       "      <td>2</td>\n",
       "      <td>NaN</td>\n",
       "      <td>NaN</td>\n",
       "      <td>no</td>\n",
       "      <td>no</td>\n",
       "      <td>no</td>\n",
       "      <td>0</td>\n",
       "      <td>no</td>\n",
       "    </tr>\n",
       "    <tr>\n",
       "      <td>4</td>\n",
       "      <td>5</td>\n",
       "      <td>61000.0</td>\n",
       "      <td>6360</td>\n",
       "      <td>2</td>\n",
       "      <td>1</td>\n",
       "      <td>1</td>\n",
       "      <td>NaN</td>\n",
       "      <td>NaN</td>\n",
       "      <td>no</td>\n",
       "      <td>no</td>\n",
       "      <td>no</td>\n",
       "      <td>0</td>\n",
       "      <td>no</td>\n",
       "    </tr>\n",
       "    <tr>\n",
       "      <td>...</td>\n",
       "      <td>...</td>\n",
       "      <td>...</td>\n",
       "      <td>...</td>\n",
       "      <td>...</td>\n",
       "      <td>...</td>\n",
       "      <td>...</td>\n",
       "      <td>...</td>\n",
       "      <td>...</td>\n",
       "      <td>...</td>\n",
       "      <td>...</td>\n",
       "      <td>...</td>\n",
       "      <td>...</td>\n",
       "      <td>...</td>\n",
       "    </tr>\n",
       "    <tr>\n",
       "      <td>541</td>\n",
       "      <td>542</td>\n",
       "      <td>91500.0</td>\n",
       "      <td>4800</td>\n",
       "      <td>3</td>\n",
       "      <td>2</td>\n",
       "      <td>4</td>\n",
       "      <td>NaN</td>\n",
       "      <td>NaN</td>\n",
       "      <td>no</td>\n",
       "      <td>no</td>\n",
       "      <td>yes</td>\n",
       "      <td>0</td>\n",
       "      <td>no</td>\n",
       "    </tr>\n",
       "    <tr>\n",
       "      <td>542</td>\n",
       "      <td>543</td>\n",
       "      <td>94000.0</td>\n",
       "      <td>6000</td>\n",
       "      <td>3</td>\n",
       "      <td>2</td>\n",
       "      <td>4</td>\n",
       "      <td>NaN</td>\n",
       "      <td>NaN</td>\n",
       "      <td>no</td>\n",
       "      <td>no</td>\n",
       "      <td>yes</td>\n",
       "      <td>0</td>\n",
       "      <td>no</td>\n",
       "    </tr>\n",
       "    <tr>\n",
       "      <td>543</td>\n",
       "      <td>544</td>\n",
       "      <td>103000.0</td>\n",
       "      <td>6000</td>\n",
       "      <td>3</td>\n",
       "      <td>2</td>\n",
       "      <td>4</td>\n",
       "      <td>NaN</td>\n",
       "      <td>NaN</td>\n",
       "      <td>no</td>\n",
       "      <td>no</td>\n",
       "      <td>yes</td>\n",
       "      <td>1</td>\n",
       "      <td>no</td>\n",
       "    </tr>\n",
       "    <tr>\n",
       "      <td>544</td>\n",
       "      <td>545</td>\n",
       "      <td>105000.0</td>\n",
       "      <td>6000</td>\n",
       "      <td>3</td>\n",
       "      <td>2</td>\n",
       "      <td>2</td>\n",
       "      <td>NaN</td>\n",
       "      <td>NaN</td>\n",
       "      <td>no</td>\n",
       "      <td>no</td>\n",
       "      <td>yes</td>\n",
       "      <td>1</td>\n",
       "      <td>no</td>\n",
       "    </tr>\n",
       "    <tr>\n",
       "      <td>545</td>\n",
       "      <td>546</td>\n",
       "      <td>105000.0</td>\n",
       "      <td>6000</td>\n",
       "      <td>3</td>\n",
       "      <td>1</td>\n",
       "      <td>2</td>\n",
       "      <td>NaN</td>\n",
       "      <td>NaN</td>\n",
       "      <td>no</td>\n",
       "      <td>no</td>\n",
       "      <td>yes</td>\n",
       "      <td>1</td>\n",
       "      <td>no</td>\n",
       "    </tr>\n",
       "  </tbody>\n",
       "</table>\n",
       "<p>546 rows × 13 columns</p>\n",
       "</div>"
      ],
      "text/plain": [
       "     Unnamed: 0     price  lotsize  bedrooms  bathrms  stories  driveway  \\\n",
       "0             1   42000.0     5850         3        1        2       NaN   \n",
       "1             2   38500.0     4000         2        1        1       NaN   \n",
       "2             3   49500.0     3060         3        1        1       NaN   \n",
       "3             4   60500.0     6650         3        1        2       NaN   \n",
       "4             5   61000.0     6360         2        1        1       NaN   \n",
       "..          ...       ...      ...       ...      ...      ...       ...   \n",
       "541         542   91500.0     4800         3        2        4       NaN   \n",
       "542         543   94000.0     6000         3        2        4       NaN   \n",
       "543         544  103000.0     6000         3        2        4       NaN   \n",
       "544         545  105000.0     6000         3        2        2       NaN   \n",
       "545         546  105000.0     6000         3        1        2       NaN   \n",
       "\n",
       "     recroom fullbase gashw airco  garagepl prefarea  \n",
       "0        NaN      yes    no    no         1       no  \n",
       "1        NaN       no    no    no         0       no  \n",
       "2        NaN       no    no    no         0       no  \n",
       "3        NaN       no    no    no         0       no  \n",
       "4        NaN       no    no    no         0       no  \n",
       "..       ...      ...   ...   ...       ...      ...  \n",
       "541      NaN       no    no   yes         0       no  \n",
       "542      NaN       no    no   yes         0       no  \n",
       "543      NaN       no    no   yes         1       no  \n",
       "544      NaN       no    no   yes         1       no  \n",
       "545      NaN       no    no   yes         1       no  \n",
       "\n",
       "[546 rows x 13 columns]"
      ]
     },
     "execution_count": 40,
     "metadata": {},
     "output_type": "execute_result"
    }
   ],
   "source": [
    "data"
   ]
  },
  {
   "cell_type": "code",
   "execution_count": 41,
   "metadata": {},
   "outputs": [],
   "source": [
    "#linear Regression\n",
    "from sklearn.linear_model import LinearRegression\n",
    "lmodel=LinearRegression()\n",
    "#\n"
   ]
  },
  {
   "cell_type": "code",
   "execution_count": 42,
   "metadata": {},
   "outputs": [
    {
     "data": {
      "text/plain": [
       "LinearRegression(copy_X=True, fit_intercept=True, n_jobs=None, normalize=False)"
      ]
     },
     "execution_count": 42,
     "metadata": {},
     "output_type": "execute_result"
    }
   ],
   "source": [
    "lmodel.fit(x,y)"
   ]
  },
  {
   "cell_type": "code",
   "execution_count": 43,
   "metadata": {},
   "outputs": [],
   "source": [
    "ypred=lmodel.predict(x)"
   ]
  },
  {
   "cell_type": "code",
   "execution_count": 44,
   "metadata": {},
   "outputs": [
    {
     "data": {
      "text/plain": [
       "array([ 4027.59647388,  4189.94545404,  4825.66509491,  4866.04816728,\n",
       "        5281.47515109,  5567.09192635,  4863.96756385,  4903.20672164,\n",
       "        6430.61319779,  5028.0182038 ,  6462.49129605,  2948.62940534,\n",
       "        3299.91000918,  3317.53067581,  4117.17680758,  4160.83799546,\n",
       "        3101.61122654,  3634.81344656,  4403.19335532,  3265.10412128,\n",
       "        4283.89899552,  4961.19922085,  3828.69550686,  4165.68923855,\n",
       "        4359.73896247,  3940.06730308,  4432.50760894,  4456.76382443,\n",
       "        3729.88633914,  4168.28252372,  3652.05965454,  4420.75395985,\n",
       "        4699.32597933,  4820.60705678,  4847.2497624 ,  5281.47515109,\n",
       "        5315.43385277,  4371.956471  ,  5742.24935962,  3785.00049531,\n",
       "        5216.15103288,  5385.94454131,  6070.17661315,  6001.52931597,\n",
       "        3731.46384987,  3271.40473496,  3458.00993062,  3222.89230399,\n",
       "        3133.31197029,  4648.55559042,  4534.49662326,  4438.37462647,\n",
       "        5621.06216794,  6598.7553158 ,  2265.4473623 ,  3535.02763582,\n",
       "        2795.77948063,  4754.04036302,  3712.26567251,  3445.44730212,\n",
       "        4216.58815967,  4650.81354835,  4844.86327227,  4609.74564563,\n",
       "        4749.82512796,  4900.82023151,  4900.82023151,  5572.54973696,\n",
       "        3749.0845165 ,  4473.69966071,  4505.27625541,  4464.20835269,\n",
       "        3045.65426729,  3639.49702604,  3688.00945702,  3317.53067581,\n",
       "        3319.91716594,  4372.24152887,  4662.47331167,  5422.16120093,\n",
       "        4415.69592172,  3107.90706502,  4415.69592172,  4076.10890486,\n",
       "        4521.40311229,  3902.0663377 ,  5173.93444038,  5821.31384457,\n",
       "        4020.15194562,  4397.73554471,  4645.35573774,  3724.73441524,\n",
       "        9940.65524278,  7003.28750722,  8356.55670768,  4214.20166953,\n",
       "        5039.11979122,  5330.1943771 ,  3961.12366589,  4408.25139345,\n",
       "        3574.13908417,  5166.70191306,  8054.12824518,  8167.8709086 ,\n",
       "        4475.86811602,  4408.25139345,  3797.59694748,  4500.12433151,\n",
       "        5144.52630099,  5343.72794881,  3657.11769267,  3724.82830101,\n",
       "        6453.21802286,  5730.58959629,  4549.44574189,  6156.68562637,\n",
       "        6501.73045384,  6246.57184677,  6828.72101853,  7762.65388682,\n",
       "        5305.73136658,  5645.22449766,  4117.17680758,  4876.56401602,\n",
       "        5718.0870299 ,  6372.91096235,  6951.14601056,  7604.9199142 ,\n",
       "        7594.40406546,  7764.19757389,  3585.92655693,  4148.87755133,\n",
       "        3557.62807774,  4874.17752589,  5577.60777509,  5261.89803008,\n",
       "        4221.6461978 ,  4020.15194562,  2754.57968142,  4076.10890486,\n",
       "        4706.77050759,  3930.57161192,  4238.36399925,  3943.13424042,\n",
       "        3914.19444544,  4022.53843575,  4037.08778189,  4235.69245125,\n",
       "        4459.86540819,  4517.77882181,  4895.96898841,  2859.04907164,\n",
       "        3355.02416536,  3174.37987301,  4752.89644844,  3493.83202366,\n",
       "        4900.82023151,  3821.75927719,  4348.79429278,  4193.14092358,\n",
       "        5090.01871233,  8398.77330017,  2783.89393504,  3234.55206731,\n",
       "        3703.16537068,  5373.04220243,  4702.52144886,  4267.77213864,\n",
       "        4553.78868639,  3465.45445888,  4869.11948776,  3123.48095189,\n",
       "        3414.55553777,  3802.65498561,  4415.69592172,  4451.61190053,\n",
       "        5488.0274414 ,  5155.24894476,  5276.32322718,  3276.4627731 ,\n",
       "        4379.74611923,  4415.69592172,  5238.02075824,  5090.01871233,\n",
       "        2699.37163947,  4507.66274554,  4592.80542621,  3519.02492799,\n",
       "        3996.70470953,  4869.49394641,  5240.40724837,  4869.11948776,\n",
       "        3174.37987301,  4885.83728921,  3923.12708366,  3137.82788616,\n",
       "        4364.7970006 ,  3101.61122654,  3724.82830101,  4512.72078367,\n",
       "        4995.45860334,  4062.14173699,  3996.70470953,  4456.66993866,\n",
       "        5038.91299619,  3821.75927719,  4047.60363064,  5693.83081441,\n",
       "        4902.86701127,  6911.69962703,  3433.75371513,  3506.5223616 ,\n",
       "        3894.82860447,  3659.5041828 ,  5099.92799356,  4311.22653149,\n",
       "        8086.54369051,  3174.37987301,  4372.24152887,  4684.90078223,\n",
       "        3368.42959692,  4471.65288096,  5390.7957844 ,  4660.21097059,\n",
       "        5890.64148711,  4243.61063168,  5038.91299619,  4650.81354835,\n",
       "        5288.91967935,  5494.62916659,  5914.12347147,  5925.78323479,\n",
       "        3202.88514723,  2943.5713672 ,  3634.43898791,  3300.71898859,\n",
       "        4178.19180495,  4721.94462199,  3583.5400668 ,  3547.53020221,\n",
       "        3413.6526726 ,  4410.63788358,  5761.14165027,  3632.05249778,\n",
       "        3566.72837957,  3273.6626929 ,  4165.68923855,  4027.59647388,\n",
       "        4481.02003992,  4173.13376682,  4777.15266393,  4516.93601874,\n",
       "        3853.76070175,  4572.89297798,  5051.41556258,  5119.12617092,\n",
       "        4880.68536531,  5656.97814676,  3947.38329915,  4311.22653149,\n",
       "        4081.16694299,  4333.43158408,  4675.06976384,  4694.47473623,\n",
       "        4747.83841031,  4796.35084129,  4015.90288689,  4869.11948776,\n",
       "        4941.88813423,  4954.39070062,  4572.89297798,  4944.27462436,\n",
       "        5196.95285552,  5083.71809865,  5143.38238641,  5132.86653767,\n",
       "        5820.16992999,  5167.6386019 ,  4755.28293857,  4453.69250395,\n",
       "        4941.88813423,  4959.41491508,  5594.04051868,  4505.27625541,\n",
       "        4173.13376682,  5143.38238641,  4658.25807661,  5099.92799356,\n",
       "        3777.58979072,  3971.63951464,  4267.77213864,  3882.05918094,\n",
       "        4505.27625541,  4602.30111737,  4626.55733286,  4699.32597933,\n",
       "        4747.83841031,  4415.69592172,  4888.52446015,  4893.37570325,\n",
       "        4990.40056521,  5140.99589628,  4725.96868495,  4876.56401602,\n",
       "        5335.0456202 ,  5427.01244402,  4955.5346152 ,  5067.926569  ,\n",
       "        5659.05875018,  5585.05230336,  5213.76454275,  5589.47433345,\n",
       "        5385.94454131,  5734.80483136,  5767.95017049,  4948.64783214,\n",
       "        5002.61807373,  5533.86832438,  5191.20998704,  5582.38075536,\n",
       "        5567.01366351,  5462.24359249,  5739.57781162,  7178.51799742,\n",
       "        6874.84695938,  6464.87778618,  7221.97239027,  6130.06374959,\n",
       "        6394.06839898,  8245.79147897,  8052.88566963,  8729.60015628,\n",
       "        4747.83841031,  4990.40056521,  5335.0456202 ,  5281.47515109,\n",
       "        7179.661912  ,  9287.87205619,  8873.38176122,  5022.10130896,\n",
       "        4951.71915262,  5531.48183425,  6203.2113397 ,  5543.14159757,\n",
       "        5390.71752157,  4801.40887942,  4184.79353014,  4876.56401602,\n",
       "        4466.59484283,  5094.86995543,  5553.3515596 ,  5313.17589484,\n",
       "        6232.52559332,  6435.25764585,  6184.1260716 ,  6062.73208489,\n",
       "        5280.79032074,  5836.60267358,  6469.93582431,  6312.45371018,\n",
       "        8011.81776692,  7602.15448043, 10151.82254063,  5423.94112354,\n",
       "        6543.00515159,  7124.94752831,  6426.19637359,  7687.80463693,\n",
       "        8572.68815789,  5928.85455527,  6343.29082202,  6547.85639469,\n",
       "        6205.50394406,  7623.71831908,  7798.96963812,  8216.38333958,\n",
       "        7526.40839925, 10547.36651673,  6499.34396371,  6367.85292422,\n",
       "        5857.78756859,  7447.72285794,  8781.81470988,  5989.15007587,\n",
       "        5489.17135598,  6192.90228599,  5626.04194324,  6547.85639469,\n",
       "        6488.82811496,  6537.34054594,  6640.03001355,  6680.79723546,\n",
       "        5778.81696941,  5936.01402567,  5858.16651223,  5545.22220099,\n",
       "        5338.57602491,  5622.58054117,  6445.98028963,  6054.60272628,\n",
       "        6852.67134731,  6111.24451587,  6124.98488262,  5436.84346242,\n",
       "        6079.44988634,  6209.41329241,  6585.85297692,  5800.68669476,\n",
       "        6413.97886507,  5589.18927558,  6790.41854958,  5836.60267358,\n",
       "        6227.08861155,  3118.6297088 ,  3331.57692927,  6731.39026986,\n",
       "        7275.54285938,  6711.77850244, 10229.64922523,  6584.2015865 ,\n",
       "        5621.06216794,  5812.04057138,  4954.18390559,  5041.50628135,\n",
       "        5167.6386019 ,  5030.78363758,  4723.58219482,  4747.83841031,\n",
       "        4917.63191874,  5264.70259528,  5017.04327083,  5084.35410669,\n",
       "        5771.65749901,  5429.39893416,  5569.47841648,  5836.88773145,\n",
       "        8065.78800851,  4900.82023151,  5143.38238641,  5337.43211033,\n",
       "        4942.09492926,  4594.17175876,  5577.60777509,  5948.8955357 ,\n",
       "        5405.14271867,  7181.11128258,  6802.00005007,  7585.72173684,\n",
       "        4803.79536955,  5138.32434828,  5674.63263705,  5669.57459892,\n",
       "        5965.70722293,  5989.96343842,  6057.88084179,  5569.47841648,\n",
       "        5991.95015607,  6599.82096754,  4585.77112372,  4270.15862878,\n",
       "        4299.26608736,  3932.95810205,  4367.18349074,  4039.2562372 ,\n",
       "        3957.21431754,  4078.49539499,  4175.52025695,  4658.25807661,\n",
       "        4497.1468968 ,  4915.15154283,  4466.59484283,  5359.30183569,\n",
       "        4415.69592172,  4853.65851014,  6067.50506515,  6322.01204124,\n",
       "        5305.73136658,  6330.69436986,  6467.54933418,  5873.45534123,\n",
       "        5940.76617709,  6973.95242476,  5324.55060029,  4820.60705678,\n",
       "        5475.73167004,  7512.95309037,  4403.40015035,  4461.61506753,\n",
       "        4704.38401746,  4747.83841031,  4849.9213104 ,  4995.45860334,\n",
       "        4893.37570325,  4941.88813423,  5160.19407364,  5286.53318922,\n",
       "        5335.0456202 ,  5041.50628135,  5529.09534411,  4377.01450913,\n",
       "        5616.21092484,  4546.80801756,  5820.16992999,  5410.2007568 ,\n",
       "        5505.9830432 ,  5751.23236904,  5343.63406304,  6062.73208489,\n",
       "        5776.43047927,  5094.86995543,  5326.91626158,  4396.49774436,\n",
       "        5129.03545215,  5191.89481739,  5179.59904603,  4893.37570325,\n",
       "        5777.57439385,  5577.22883145,  6663.98554823,  6551.3867994 ,\n",
       "        5833.5313531 ,  5930.55621506,  6135.12178772,  6232.14664968,\n",
       "        6377.68394262,  6615.18805938,  5887.50159469,  6263.9412792 ,\n",
       "        6008.78267214,  6467.26427631,  6580.88433957,  6943.11531292,\n",
       "        5820.16992999,  5809.65408125,  5533.86832438,  4771.71568216,\n",
       "        4795.97189765,  5582.38075536,  5302.9659328 ,  5887.78665256,\n",
       "        4917.2529751 ,  5173.55549674,  5353.86485391,  5731.44845301,\n",
       "        6696.92409234,  7083.87962559])"
      ]
     },
     "execution_count": 44,
     "metadata": {},
     "output_type": "execute_result"
    }
   ],
   "source": [
    "ypred"
   ]
  },
  {
   "cell_type": "code",
   "execution_count": 45,
   "metadata": {},
   "outputs": [
    {
     "data": {
      "text/plain": [
       "1286.5669493455136"
      ]
     },
     "execution_count": 45,
     "metadata": {},
     "output_type": "execute_result"
    }
   ],
   "source": [
    "from sklearn import metrics\n",
    "metrics.mean_absolute_error(y,ypred)"
   ]
  },
  {
   "cell_type": "code",
   "execution_count": 56,
   "metadata": {},
   "outputs": [],
   "source": [
    "#plolynimial method\n",
    "from sklearn.preprocessing import PolynomialFeatures\n",
    "e=[]\n",
    "for i in range(1,9):\n",
    "    rpol=PolynomialFeatures(degree=i)\n",
    "    x_pol=rpol.fit_transform(x)\n",
    "    lpmodel=LinearRegression()\n",
    "    lpmodel.fit(x_pol,y)\n",
    "    yppred=lpmodel.predict(x_pol)\n",
    "    e.append(metrics.mean_absolute_error(yppred,y)) \n",
    "    \n"
   ]
  },
  {
   "cell_type": "code",
   "execution_count": 58,
   "metadata": {},
   "outputs": [
    {
     "data": {
      "image/png": "[encoded data removed]",
      "text/plain": [
       "<Figure size 432x288 with 1 Axes>"
      ]
     },
     "metadata": {
      "needs_background": "light"
     },
     "output_type": "display_data"
    }
   ],
   "source": [
    "plt.plot(np.arange(1,9),e)\n",
    "plt.show()\n"
   ]
  },
  {
   "cell_type": "code",
   "execution_count": null,
   "metadata": {},
   "outputs": [],
   "source": []
  }
 ],
 "metadata": {
  "kernelspec": {
   "display_name": "Python 3",
   "language": "python",
   "name": "python3"
  },
  "language_info": {
   "codemirror_mode": {
    "name": "ipython",
    "version": 3
   },
   "file_extension": ".py",
   "mimetype": "text/x-python",
   "name": "python",
   "nbconvert_exporter": "python",
   "pygments_lexer": "ipython3",
   "version": "3.7.4"
  }
 },
 "nbformat": 4,
 "nbformat_minor": 2
}
