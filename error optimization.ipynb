{
 "cells": [
  {
   "cell_type": "code",
   "execution_count": 1,
   "metadata": {},
   "outputs": [],
   "source": [
    "#implimentation of gradient decending\n",
    "x1=4\n",
    "x2=6\n",
    "y=35\n",
    "m1=4\n",
    "m2=6\n",
    "yp=m1*x1+m2*x2"
   ]
  },
  {
   "cell_type": "code",
   "execution_count": 2,
   "metadata": {},
   "outputs": [
    {
     "data": {
      "text/plain": [
       "52"
      ]
     },
     "execution_count": 2,
     "metadata": {},
     "output_type": "execute_result"
    }
   ],
   "source": [
    "yp"
   ]
  },
  {
   "cell_type": "code",
   "execution_count": 3,
   "metadata": {},
   "outputs": [],
   "source": [
    "e=yp-y"
   ]
  },
  {
   "cell_type": "code",
   "execution_count": 4,
   "metadata": {},
   "outputs": [
    {
     "data": {
      "text/plain": [
       "17"
      ]
     },
     "execution_count": 4,
     "metadata": {},
     "output_type": "execute_result"
    }
   ],
   "source": [
    "e"
   ]
  },
  {
   "cell_type": "code",
   "execution_count": 5,
   "metadata": {},
   "outputs": [],
   "source": [
    "Error=e**2"
   ]
  },
  {
   "cell_type": "code",
   "execution_count": 6,
   "metadata": {},
   "outputs": [],
   "source": [
    "dem1=2*(y-yp)*(-x1)\n",
    "dem2=2*(y-yp)*(-x2)\n",
    "m1=m1-dem1\n",
    "m2=m2-dem2"
   ]
  },
  {
   "cell_type": "code",
   "execution_count": 7,
   "metadata": {},
   "outputs": [
    {
     "data": {
      "text/plain": [
       "136"
      ]
     },
     "execution_count": 7,
     "metadata": {},
     "output_type": "execute_result"
    }
   ],
   "source": [
    "dem1"
   ]
  },
  {
   "cell_type": "code",
   "execution_count": 8,
   "metadata": {},
   "outputs": [
    {
     "data": {
      "text/plain": [
       "-198"
      ]
     },
     "execution_count": 8,
     "metadata": {},
     "output_type": "execute_result"
    }
   ],
   "source": [
    "m2"
   ]
  },
  {
   "cell_type": "code",
   "execution_count": 9,
   "metadata": {},
   "outputs": [],
   "source": [
    "yp=m1*x1+m2*x2"
   ]
  },
  {
   "cell_type": "code",
   "execution_count": 10,
   "metadata": {},
   "outputs": [
    {
     "data": {
      "text/plain": [
       "-1716"
      ]
     },
     "execution_count": 10,
     "metadata": {},
     "output_type": "execute_result"
    }
   ],
   "source": [
    "yp"
   ]
  },
  {
   "cell_type": "code",
   "execution_count": 13,
   "metadata": {},
   "outputs": [],
   "source": [
    "#error optimization with multiple data\n",
    "import numpy as np\n",
    "x1=np.random.randint(3,15,10)\n",
    "x2=np.random.randint(2,20,10)\n",
    "x3=np.random.randint(4,16,10)\n"
   ]
  },
  {
   "cell_type": "code",
   "execution_count": 15,
   "metadata": {},
   "outputs": [
    {
     "data": {
      "text/plain": [
       "array([ 7,  7,  3, 14,  4, 13,  4, 12,  5,  9])"
      ]
     },
     "execution_count": 15,
     "metadata": {},
     "output_type": "execute_result"
    }
   ],
   "source": [
    "x1\n",
    "\n"
   ]
  },
  {
   "cell_type": "code",
   "execution_count": 18,
   "metadata": {},
   "outputs": [],
   "source": [
    "x=np.array([x1,x2,x3])"
   ]
  },
  {
   "cell_type": "code",
   "execution_count": 19,
   "metadata": {},
   "outputs": [
    {
     "data": {
      "text/plain": [
       "array([[ 7,  7,  3, 14,  4, 13,  4, 12,  5,  9],\n",
       "       [16, 11, 13, 10, 14,  6, 19,  5, 13,  9],\n",
       "       [13, 15, 12,  4, 14,  6,  5,  8,  4,  5]])"
      ]
     },
     "execution_count": 19,
     "metadata": {},
     "output_type": "execute_result"
    }
   ],
   "source": [
    "x"
   ]
  },
  {
   "cell_type": "code",
   "execution_count": 20,
   "metadata": {},
   "outputs": [],
   "source": [
    "x=x.T"
   ]
  },
  {
   "cell_type": "code",
   "execution_count": 21,
   "metadata": {},
   "outputs": [
    {
     "data": {
      "text/plain": [
       "array([[ 7, 16, 13],\n",
       "       [ 7, 11, 15],\n",
       "       [ 3, 13, 12],\n",
       "       [14, 10,  4],\n",
       "       [ 4, 14, 14],\n",
       "       [13,  6,  6],\n",
       "       [ 4, 19,  5],\n",
       "       [12,  5,  8],\n",
       "       [ 5, 13,  4],\n",
       "       [ 9,  9,  5]])"
      ]
     },
     "execution_count": 21,
     "metadata": {},
     "output_type": "execute_result"
    }
   ],
   "source": [
    "x"
   ]
  },
  {
   "cell_type": "code",
   "execution_count": 22,
   "metadata": {},
   "outputs": [],
   "source": [
    "y=x1*4+x2*3+x3*5"
   ]
  },
  {
   "cell_type": "code",
   "execution_count": 23,
   "metadata": {},
   "outputs": [
    {
     "data": {
      "text/plain": [
       "array([141, 136, 111, 106, 128, 100,  98, 103,  79,  88])"
      ]
     },
     "execution_count": 23,
     "metadata": {},
     "output_type": "execute_result"
    }
   ],
   "source": [
    "y"
   ]
  },
  {
   "cell_type": "code",
   "execution_count": 41,
   "metadata": {},
   "outputs": [],
   "source": [
    "y=y.reshape(10,1)"
   ]
  },
  {
   "cell_type": "code",
   "execution_count": 42,
   "metadata": {},
   "outputs": [
    {
     "data": {
      "text/plain": [
       "array([[141],\n",
       "       [136],\n",
       "       [111],\n",
       "       [106],\n",
       "       [128],\n",
       "       [100],\n",
       "       [ 98],\n",
       "       [103],\n",
       "       [ 79],\n",
       "       [ 88]])"
      ]
     },
     "execution_count": 42,
     "metadata": {},
     "output_type": "execute_result"
    }
   ],
   "source": [
    "y"
   ]
  },
  {
   "cell_type": "code",
   "execution_count": 43,
   "metadata": {},
   "outputs": [],
   "source": [
    "m=np.array([[np.random.randn(1),np.random.randn(1),np.random.randn(1)]])"
   ]
  },
  {
   "cell_type": "code",
   "execution_count": 44,
   "metadata": {},
   "outputs": [
    {
     "data": {
      "text/plain": [
       "array([[[-0.21227163],\n",
       "        [-0.87895664],\n",
       "        [-0.27096026]]])"
      ]
     },
     "execution_count": 44,
     "metadata": {},
     "output_type": "execute_result"
    }
   ],
   "source": [
    "m"
   ]
  },
  {
   "cell_type": "code",
   "execution_count": 45,
   "metadata": {},
   "outputs": [],
   "source": [
    "#ypred=m1x1+m2x2+m3x3\n",
    "# yp1-y1=e1\n",
    "# yp2.y2=e2\n",
    "# yp3.y3=e3\n",
    "# yp4.y4=e4\n",
    "\n",
    "\n",
    "yp= np.dot(x,m)\n",
    "\n"
   ]
  },
  {
   "cell_type": "code",
   "execution_count": 46,
   "metadata": {},
   "outputs": [
    {
     "data": {
      "text/plain": [
       "array([[[-19.07169111]],\n",
       "\n",
       "       [[-15.21882843]],\n",
       "\n",
       "       [[-15.31477439]],\n",
       "\n",
       "       [[-12.84521031]],\n",
       "\n",
       "       [[-16.94792319]],\n",
       "\n",
       "       [[ -9.65903264]],\n",
       "\n",
       "       [[-18.90406402]],\n",
       "\n",
       "       [[ -9.1097249 ]],\n",
       "\n",
       "       [[-13.57163554]],\n",
       "\n",
       "       [[-11.17585577]]])"
      ]
     },
     "execution_count": 46,
     "metadata": {},
     "output_type": "execute_result"
    }
   ],
   "source": [
    "yp"
   ]
  },
  {
   "cell_type": "code",
   "execution_count": 47,
   "metadata": {},
   "outputs": [],
   "source": [
    "e=yp-y"
   ]
  },
  {
   "cell_type": "code",
   "execution_count": 48,
   "metadata": {},
   "outputs": [
    {
     "data": {
      "text/plain": [
       "array([[[-160.07169111],\n",
       "        [-155.07169111],\n",
       "        [-130.07169111],\n",
       "        [-125.07169111],\n",
       "        [-147.07169111],\n",
       "        [-119.07169111],\n",
       "        [-117.07169111],\n",
       "        [-122.07169111],\n",
       "        [ -98.07169111],\n",
       "        [-107.07169111]],\n",
       "\n",
       "       [[-156.21882843],\n",
       "        [-151.21882843],\n",
       "        [-126.21882843],\n",
       "        [-121.21882843],\n",
       "        [-143.21882843],\n",
       "        [-115.21882843],\n",
       "        [-113.21882843],\n",
       "        [-118.21882843],\n",
       "        [ -94.21882843],\n",
       "        [-103.21882843]],\n",
       "\n",
       "       [[-156.31477439],\n",
       "        [-151.31477439],\n",
       "        [-126.31477439],\n",
       "        [-121.31477439],\n",
       "        [-143.31477439],\n",
       "        [-115.31477439],\n",
       "        [-113.31477439],\n",
       "        [-118.31477439],\n",
       "        [ -94.31477439],\n",
       "        [-103.31477439]],\n",
       "\n",
       "       [[-153.84521031],\n",
       "        [-148.84521031],\n",
       "        [-123.84521031],\n",
       "        [-118.84521031],\n",
       "        [-140.84521031],\n",
       "        [-112.84521031],\n",
       "        [-110.84521031],\n",
       "        [-115.84521031],\n",
       "        [ -91.84521031],\n",
       "        [-100.84521031]],\n",
       "\n",
       "       [[-157.94792319],\n",
       "        [-152.94792319],\n",
       "        [-127.94792319],\n",
       "        [-122.94792319],\n",
       "        [-144.94792319],\n",
       "        [-116.94792319],\n",
       "        [-114.94792319],\n",
       "        [-119.94792319],\n",
       "        [ -95.94792319],\n",
       "        [-104.94792319]],\n",
       "\n",
       "       [[-150.65903264],\n",
       "        [-145.65903264],\n",
       "        [-120.65903264],\n",
       "        [-115.65903264],\n",
       "        [-137.65903264],\n",
       "        [-109.65903264],\n",
       "        [-107.65903264],\n",
       "        [-112.65903264],\n",
       "        [ -88.65903264],\n",
       "        [ -97.65903264]],\n",
       "\n",
       "       [[-159.90406402],\n",
       "        [-154.90406402],\n",
       "        [-129.90406402],\n",
       "        [-124.90406402],\n",
       "        [-146.90406402],\n",
       "        [-118.90406402],\n",
       "        [-116.90406402],\n",
       "        [-121.90406402],\n",
       "        [ -97.90406402],\n",
       "        [-106.90406402]],\n",
       "\n",
       "       [[-150.1097249 ],\n",
       "        [-145.1097249 ],\n",
       "        [-120.1097249 ],\n",
       "        [-115.1097249 ],\n",
       "        [-137.1097249 ],\n",
       "        [-109.1097249 ],\n",
       "        [-107.1097249 ],\n",
       "        [-112.1097249 ],\n",
       "        [ -88.1097249 ],\n",
       "        [ -97.1097249 ]],\n",
       "\n",
       "       [[-154.57163554],\n",
       "        [-149.57163554],\n",
       "        [-124.57163554],\n",
       "        [-119.57163554],\n",
       "        [-141.57163554],\n",
       "        [-113.57163554],\n",
       "        [-111.57163554],\n",
       "        [-116.57163554],\n",
       "        [ -92.57163554],\n",
       "        [-101.57163554]],\n",
       "\n",
       "       [[-152.17585577],\n",
       "        [-147.17585577],\n",
       "        [-122.17585577],\n",
       "        [-117.17585577],\n",
       "        [-139.17585577],\n",
       "        [-111.17585577],\n",
       "        [-109.17585577],\n",
       "        [-114.17585577],\n",
       "        [ -90.17585577],\n",
       "        [ -99.17585577]]])"
      ]
     },
     "execution_count": 48,
     "metadata": {},
     "output_type": "execute_result"
    }
   ],
   "source": [
    "e"
   ]
  },
  {
   "cell_type": "code",
   "execution_count": 49,
   "metadata": {},
   "outputs": [
    {
     "data": {
      "text/plain": [
       "array([[[25622.94629353],\n",
       "        [24047.22938247],\n",
       "        [16918.64482717],\n",
       "        [15642.92791611],\n",
       "        [21630.08232478],\n",
       "        [14178.06762284],\n",
       "        [13705.78085842],\n",
       "        [14901.49776948],\n",
       "        [ 9618.05659639],\n",
       "        [11464.3470363 ]],\n",
       "\n",
       "       [[24404.32235679],\n",
       "        [22867.13407247],\n",
       "        [15931.19265085],\n",
       "        [14694.00436653],\n",
       "        [20511.63281755],\n",
       "        [13275.37842534],\n",
       "        [12818.50311161],\n",
       "        [13975.69139593],\n",
       "        [ 8877.18763118],\n",
       "        [10654.12654296]],\n",
       "\n",
       "       [[24434.30869366],\n",
       "        [22896.16094973],\n",
       "        [15955.42223006],\n",
       "        [14717.27448612],\n",
       "        [20539.12455944],\n",
       "        [13297.4971934 ],\n",
       "        [12840.23809583],\n",
       "        [13998.38583976],\n",
       "        [ 8895.27666888],\n",
       "        [10673.94260796]],\n",
       "\n",
       "       [[23668.34873409],\n",
       "        [22154.89663103],\n",
       "        [15337.63611573],\n",
       "        [14124.18401267],\n",
       "        [19837.37326614],\n",
       "        [12734.041489  ],\n",
       "        [12286.66064778],\n",
       "        [13420.11275084],\n",
       "        [ 8435.54265615],\n",
       "        [10169.75644166]],\n",
       "\n",
       "       [[24947.54644139],\n",
       "        [23393.06720945],\n",
       "        [16370.67104973],\n",
       "        [15116.19181779],\n",
       "        [21009.90043834],\n",
       "        [13676.81673946],\n",
       "        [13213.02504668],\n",
       "        [14387.50427863],\n",
       "        [ 9206.0039653 ],\n",
       "        [11014.0665828 ]],\n",
       "\n",
       "       [[22698.14411637],\n",
       "        [21216.55378995],\n",
       "        [14558.6021579 ],\n",
       "        [13377.01183149],\n",
       "        [18950.0092677 ],\n",
       "        [12025.10343979],\n",
       "        [11590.46730923],\n",
       "        [12692.05763564],\n",
       "        [ 7860.42406886],\n",
       "        [ 9537.2866564 ]],\n",
       "\n",
       "       [[25569.30968928],\n",
       "        [23995.2690491 ],\n",
       "        [16875.06584823],\n",
       "        [15601.02520806],\n",
       "        [21580.80402482],\n",
       "        [14138.17643985],\n",
       "        [13666.56018378],\n",
       "        [14860.60082395],\n",
       "        [ 9585.20575112],\n",
       "        [11428.47890343]],\n",
       "\n",
       "       [[22532.92950886],\n",
       "        [21056.83225988],\n",
       "        [14426.346015  ],\n",
       "        [13250.24876602],\n",
       "        [18799.07666152],\n",
       "        [11904.93206725],\n",
       "        [11472.49316766],\n",
       "        [12568.59041664],\n",
       "        [ 7763.32362155],\n",
       "        [ 9430.29866971]],\n",
       "\n",
       "       [[23892.39051412],\n",
       "        [22371.6741587 ],\n",
       "        [15518.0923816 ],\n",
       "        [14297.37602618],\n",
       "        [20042.52799003],\n",
       "        [12898.51639968],\n",
       "        [12448.22985751],\n",
       "        [13588.94621293],\n",
       "        [ 8569.50770692],\n",
       "        [10316.79714667]],\n",
       "\n",
       "       [[23157.49107974],\n",
       "        [21660.73252202],\n",
       "        [14926.93973346],\n",
       "        [13730.18117574],\n",
       "        [19369.91882968],\n",
       "        [12360.07090649],\n",
       "        [11919.3674834 ],\n",
       "        [13036.12604112],\n",
       "        [ 8131.68496409],\n",
       "        [ 9835.85036798]]])"
      ]
     },
     "execution_count": 49,
     "metadata": {},
     "output_type": "execute_result"
    }
   ],
   "source": [
    "e**2"
   ]
  },
  {
   "cell_type": "code",
   "execution_count": 50,
   "metadata": {},
   "outputs": [],
   "source": [
    "dem1=2*np.dot((y-yp).T,(-x[:,:1]))\n",
    "dem2=2*np.dot((y-yp).T,(-x[:,1:2]))\n",
    "dem3=2*np.dot((y-yp).T,(-x[:,2:3]))"
   ]
  },
  {
   "cell_type": "code",
   "execution_count": 63,
   "metadata": {},
   "outputs": [
    {
     "data": {
      "text/plain": [
       "array([[-24021.08771168],\n",
       "       [-23241.08771168],\n",
       "       [-19341.08771168],\n",
       "       [-18561.08771168],\n",
       "       [-21993.08771168],\n",
       "       [-17625.08771168],\n",
       "       [-17313.08771168],\n",
       "       [-18093.08771168],\n",
       "       [-14349.08771168],\n",
       "       [-15753.08771168]])"
      ]
     },
     "execution_count": 63,
     "metadata": {},
     "output_type": "execute_result"
    }
   ],
   "source": [
    "# dem1=dem1.reshape(1,10)\n",
    "# dem2=dem2.reshape(1,10)\n",
    "# dem3=dem3.reshape(1,10)\n",
    "\n",
    "\n",
    "# m[0][0]=m[0][0]-dem1\n",
    "# m[1][0]=m[1][0]-dem1\n",
    "# m[2][0]=m[2][0]-dem1\n",
    "dem1=dem1.reshape(10,1)\n",
    "dem1"
   ]
  },
  {
   "cell_type": "code",
   "execution_count": 68,
   "metadata": {},
   "outputs": [
    {
     "ename": "IndexError",
     "evalue": "index 1 is out of bounds for axis 0 with size 1",
     "output_type": "error",
     "traceback": [
      "\u001b[1;31m---------------------------------------------------------------------------\u001b[0m",
      "\u001b[1;31mIndexError\u001b[0m                                Traceback (most recent call last)",
      "\u001b[1;32m<ipython-input-68-e845388fb44e>\u001b[0m in \u001b[0;36m<module>\u001b[1;34m\u001b[0m\n\u001b[0;32m      1\u001b[0m \u001b[0mm\u001b[0m\u001b[1;33m[\u001b[0m\u001b[1;36m0\u001b[0m\u001b[1;33m]\u001b[0m\u001b[1;33m[\u001b[0m\u001b[1;36m0\u001b[0m\u001b[1;33m]\u001b[0m\u001b[1;33m=\u001b[0m\u001b[0mm\u001b[0m\u001b[1;33m[\u001b[0m\u001b[1;36m0\u001b[0m\u001b[1;33m]\u001b[0m\u001b[1;33m[\u001b[0m\u001b[1;36m0\u001b[0m\u001b[1;33m]\u001b[0m\u001b[1;33m-\u001b[0m\u001b[0mdem1\u001b[0m\u001b[1;33m[\u001b[0m\u001b[1;36m0\u001b[0m\u001b[1;33m]\u001b[0m\u001b[1;33m[\u001b[0m\u001b[1;36m0\u001b[0m\u001b[1;33m]\u001b[0m\u001b[1;33m\u001b[0m\u001b[1;33m\u001b[0m\u001b[0m\n\u001b[1;32m----> 2\u001b[1;33m \u001b[0mm\u001b[0m\u001b[1;33m[\u001b[0m\u001b[1;36m1\u001b[0m\u001b[1;33m]\u001b[0m\u001b[1;33m[\u001b[0m\u001b[1;36m0\u001b[0m\u001b[1;33m]\u001b[0m\u001b[1;33m=\u001b[0m\u001b[0mm\u001b[0m\u001b[1;33m[\u001b[0m\u001b[1;36m1\u001b[0m\u001b[1;33m]\u001b[0m\u001b[1;33m[\u001b[0m\u001b[1;36m0\u001b[0m\u001b[1;33m]\u001b[0m\u001b[1;33m-\u001b[0m\u001b[0mdem2\u001b[0m\u001b[1;33m[\u001b[0m\u001b[1;36m1\u001b[0m\u001b[1;33m]\u001b[0m\u001b[1;33m[\u001b[0m\u001b[1;36m0\u001b[0m\u001b[1;33m]\u001b[0m\u001b[1;33m\u001b[0m\u001b[1;33m\u001b[0m\u001b[0m\n\u001b[0m\u001b[0;32m      3\u001b[0m \u001b[0mm\u001b[0m\u001b[1;33m[\u001b[0m\u001b[1;36m2\u001b[0m\u001b[1;33m]\u001b[0m\u001b[1;33m[\u001b[0m\u001b[1;36m0\u001b[0m\u001b[1;33m]\u001b[0m\u001b[1;33m=\u001b[0m\u001b[0mm\u001b[0m\u001b[1;33m[\u001b[0m\u001b[1;36m2\u001b[0m\u001b[1;33m]\u001b[0m\u001b[1;33m[\u001b[0m\u001b[1;36m0\u001b[0m\u001b[1;33m]\u001b[0m\u001b[1;33m-\u001b[0m\u001b[0mdem3\u001b[0m\u001b[1;33m[\u001b[0m\u001b[1;36m0\u001b[0m\u001b[1;33m]\u001b[0m\u001b[1;33m[\u001b[0m\u001b[1;36m0\u001b[0m\u001b[1;33m]\u001b[0m\u001b[1;33m\u001b[0m\u001b[1;33m\u001b[0m\u001b[0m\n",
      "\u001b[1;31mIndexError\u001b[0m: index 1 is out of bounds for axis 0 with size 1"
     ]
    }
   ],
   "source": [
    "m[0][0]=m[0][0]-dem1[0][0]\n",
    "m[1][0]=m[1][0]-dem2[1][0]\n",
    "m[2][0]=m[2][0]-dem3[0][0]"
   ]
  },
  {
   "cell_type": "code",
   "execution_count": null,
   "metadata": {},
   "outputs": [],
   "source": []
  }
 ],
 "metadata": {
  "kernelspec": {
   "display_name": "Python 3",
   "language": "python",
   "name": "python3"
  },
  "language_info": {
   "codemirror_mode": {
    "name": "ipython",
    "version": 3
   },
   "file_extension": ".py",
   "mimetype": "text/x-python",
   "name": "python",
   "nbconvert_exporter": "python",
   "pygments_lexer": "ipython3",
   "version": "3.7.4"
  }
 },
 "nbformat": 4,
 "nbformat_minor": 2
}
